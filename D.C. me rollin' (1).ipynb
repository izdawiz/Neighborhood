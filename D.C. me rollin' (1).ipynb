{
 "cells": [
  {
   "cell_type": "markdown",
   "metadata": {},
   "source": [
    "# D.C. me rollin' (they hatin')"
   ]
  },
  {
   "cell_type": "markdown",
   "metadata": {},
   "source": [
    "*An analytical approach to determining where to live post-grad that will be fun and safe*"
   ]
  },
  {
   "cell_type": "markdown",
   "metadata": {},
   "source": [
    "## The Problem"
   ]
  },
  {
   "cell_type": "markdown",
   "metadata": {},
   "source": [
    "> “You want to move where?!?!” "
   ]
  },
  {
   "cell_type": "markdown",
   "metadata": {},
   "source": [
    "As a recent college graduate, I am looking forward to the oppurtunity to move into a city. Based off my career aspirations I will most likely be moving somewhere in Washington, D.C. I would love to move somewhere that has a strong resturant/coffee scene. My parents, however, are in favor of moving somewhere safe. In my parent's mind the areas I view as desirable to move to they view as \"unsafe.\" Which brings me to my research question: **Do the clusters of neighborhoods I'm interested in moving to intersect with \"unsafe\" areas of the city?** "
   ]
  },
  {
   "cell_type": "markdown",
   "metadata": {},
   "source": [
    "## The Data"
   ]
  },
  {
   "cell_type": "markdown",
   "metadata": {},
   "source": [
    "The data for this project will come from these sources: foursquare, MPDC, and wikipedia/google maps. Foursquare will be used in a similar way to past project. I will collect venue information to create clusters of similar areas throughout the city. The MPDC has data for all public arrests in 2017. I will use this data to evaluate the \"unsafe\" clusters of the city. Lastly, I will use a comination of wikipedia and google maps to create a DC ward/neighborhood reference data set. "
   ]
  },
  {
   "cell_type": "code",
   "execution_count": null,
   "metadata": {},
   "outputs": [],
   "source": []
  }
 ],
 "metadata": {
  "kernelspec": {
   "display_name": "Python 3",
   "language": "python",
   "name": "python3"
  },
  "language_info": {
   "codemirror_mode": {
    "name": "ipython",
    "version": 3
   },
   "file_extension": ".py",
   "mimetype": "text/x-python",
   "name": "python",
   "nbconvert_exporter": "python",
   "pygments_lexer": "ipython3",
   "version": "3.7.6"
  }
 },
 "nbformat": 4,
 "nbformat_minor": 4
}
